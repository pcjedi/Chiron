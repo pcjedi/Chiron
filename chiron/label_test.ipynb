{
 "cells": [
  {
   "cell_type": "code",
   "execution_count": 28,
   "metadata": {},
   "outputs": [],
   "source": [
    "import h5py\n",
    "import os\n",
    "import mappy\n",
    "import re\n",
    "import numpy as np"
   ]
  },
  {
   "cell_type": "code",
   "execution_count": 6,
   "metadata": {},
   "outputs": [],
   "source": [
    "folder = \"/home/heavens/label/data/0\"\n",
    "file_list = os.listdir(folder)\n",
    "test_file = file_list[0]\n",
    "test_f = h5py.File(\"/home/heavens/label/data/0/\"+test_file)"
   ]
  },
  {
   "cell_type": "code",
   "execution_count": 28,
   "metadata": {},
   "outputs": [
    {
     "data": {
      "text/plain": [
       "[<HDF5 group \"/Analyses\" (4 members)>,\n",
       " <HDF5 group \"/Raw\" (1 members)>,\n",
       " <HDF5 group \"/UniqueGlobalKey\" (3 members)>]"
      ]
     },
     "execution_count": 28,
     "metadata": {},
     "output_type": "execute_result"
    }
   ],
   "source": [
    "raw_signal = list(list(test_f['/Raw/Reads'].values())[0]['Signal'])\n"
   ]
  },
  {
   "cell_type": "code",
   "execution_count": 42,
   "metadata": {},
   "outputs": [
    {
     "data": {
      "text/plain": [
       "<HDF5 dataset \"Fastq\": shape (), type \"|S3500\">"
      ]
     },
     "execution_count": 42,
     "metadata": {},
     "output_type": "execute_result"
    }
   ],
   "source": [
    "test_f['/Analyses/Basecall_1D_000/BaseCalled_template/Fastq']"
   ]
  },
  {
   "cell_type": "code",
   "execution_count": 43,
   "metadata": {},
   "outputs": [
    {
     "data": {
      "text/plain": [
       "'imb17_013486_20171107_FAE31797_MN17279_sequencing_run_20171107_RNAseq_GN125_31926_read_11480_ch_428_strand.fast5'"
      ]
     },
     "execution_count": 43,
     "metadata": {},
     "output_type": "execute_result"
    }
   ],
   "source": [
    "test_file"
   ]
  },
  {
   "cell_type": "code",
   "execution_count": 23,
   "metadata": {},
   "outputs": [],
   "source": [
    "output_file = \"/home/heavens/label/data/test.out\"\n",
    "segs = list()\n",
    "with open(output_file,'r') as out_f:\n",
    "    for line in out_f:\n",
    "        split_line = re.split('\\s+\\|*[diff:]*\\s*',line)\n",
    "        segs.append(split_line[1:-1])"
   ]
  },
  {
   "cell_type": "code",
   "execution_count": 34,
   "metadata": {},
   "outputs": [
    {
     "data": {
      "text/plain": [
       "matrix([['840'],\n",
       "        ['290'],\n",
       "        ['139'],\n",
       "        ...,\n",
       "        ['422'],\n",
       "        ['422'],\n",
       "        ['422']], dtype='<U12')"
      ]
     },
     "execution_count": 34,
     "metadata": {},
     "output_type": "execute_result"
    }
   ],
   "source": [
    "segs = np.matrix(segs)\n",
    "segs[:,1]"
   ]
  },
  {
   "cell_type": "code",
   "execution_count": 32,
   "metadata": {},
   "outputs": [
    {
     "data": {
      "text/plain": [
       "matrix([['469', '840', '1', ..., '2.16115', '3.83957', 'TCAGA'],\n",
       "        ['475', '290', '2', ..., '1.62215', '3.25054', 'CAGAG'],\n",
       "        ['471', '139', '3', ..., '1.30675', '2.9685', 'AGAGT'],\n",
       "        ...,\n",
       "        ['546', '422', '68444', ..., '-0.397359', '0.638854', 'CGGCG'],\n",
       "        ['579', '422', '68445', ..., '-0.397359', '0.363619', 'CGGCG'],\n",
       "        ['550', '422', '68446', ..., '-0.397359', '0.605492', 'CGGCG']],\n",
       "       dtype='<U12')"
      ]
     },
     "execution_count": 32,
     "metadata": {},
     "output_type": "execute_result"
    }
   ],
   "source": [
    "segs"
   ]
  },
  {
   "cell_type": "code",
   "execution_count": null,
   "metadata": {},
   "outputs": [],
   "source": []
  }
 ],
 "metadata": {
  "kernelspec": {
   "display_name": "Python 3",
   "language": "python",
   "name": "python3"
  },
  "language_info": {
   "codemirror_mode": {
    "name": "ipython",
    "version": 3
   },
   "file_extension": ".py",
   "mimetype": "text/x-python",
   "name": "python",
   "nbconvert_exporter": "python",
   "pygments_lexer": "ipython3",
   "version": "3.7.0"
  }
 },
 "nbformat": 4,
 "nbformat_minor": 2
}
